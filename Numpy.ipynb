{
 "cells": [
  {
   "cell_type": "code",
   "execution_count": 2,
   "id": "bc5e1460",
   "metadata": {},
   "outputs": [
    {
     "name": "stdout",
     "output_type": "stream",
     "text": [
      "Collecting numpy\n",
      "  Using cached numpy-1.24.3-cp38-cp38-manylinux_2_17_x86_64.manylinux2014_x86_64.whl (17.3 MB)\n",
      "Installing collected packages: numpy\n",
      "Successfully installed numpy-1.24.3\n"
     ]
    }
   ],
   "source": [
    "!pip install numpy"
   ]
  },
  {
   "cell_type": "code",
   "execution_count": 3,
   "id": "52dd4868",
   "metadata": {},
   "outputs": [],
   "source": [
    "import numpy as np"
   ]
  },
  {
   "cell_type": "code",
   "execution_count": 4,
   "id": "407f05de",
   "metadata": {},
   "outputs": [
    {
     "name": "stdout",
     "output_type": "stream",
     "text": [
      "[1 2 3]\n"
     ]
    }
   ],
   "source": [
    "a = np.array([1,2,3])\n",
    "print(a)"
   ]
  },
  {
   "cell_type": "code",
   "execution_count": 5,
   "id": "39ca5fbf",
   "metadata": {},
   "outputs": [
    {
     "name": "stdout",
     "output_type": "stream",
     "text": [
      "[[1 2 3]\n",
      " [4 5 6]]\n"
     ]
    }
   ],
   "source": [
    "# 2D array\n",
    "b = np.array([[1,2,3],[4,5,6]])\n",
    "print(b)"
   ]
  },
  {
   "cell_type": "code",
   "execution_count": 6,
   "id": "0c589e69",
   "metadata": {},
   "outputs": [
    {
     "name": "stdout",
     "output_type": "stream",
     "text": [
      "[[[1 2 3]\n",
      "  [4 5 6]\n",
      "  [7 8 9]]]\n"
     ]
    }
   ],
   "source": [
    "#3D array\n",
    "c = np.array([[[1,2,3],[4,5,6],[7,8,9]]])\n",
    "print(c)"
   ]
  },
  {
   "cell_type": "code",
   "execution_count": 7,
   "id": "21dd81b9",
   "metadata": {},
   "outputs": [
    {
     "data": {
      "text/plain": [
       "array([1., 2., 3.])"
      ]
     },
     "execution_count": 7,
     "metadata": {},
     "output_type": "execute_result"
    }
   ],
   "source": [
    "#dtype\n",
    "np.array([1,2,3],dtype=float)"
   ]
  },
  {
   "cell_type": "code",
   "execution_count": 9,
   "id": "305b9af5",
   "metadata": {},
   "outputs": [
    {
     "data": {
      "text/plain": [
       "array([ 1,  2,  3,  4,  5,  6,  7,  8,  9, 10])"
      ]
     },
     "execution_count": 9,
     "metadata": {},
     "output_type": "execute_result"
    }
   ],
   "source": [
    "# arrange\n",
    "np.arange(1,11)"
   ]
  },
  {
   "cell_type": "code",
   "execution_count": 10,
   "id": "e37924c0",
   "metadata": {},
   "outputs": [
    {
     "data": {
      "text/plain": [
       "array([1, 3, 5, 7, 9])"
      ]
     },
     "execution_count": 10,
     "metadata": {},
     "output_type": "execute_result"
    }
   ],
   "source": [
    "#odd numbers\n",
    "np.arange(1,10,2)"
   ]
  },
  {
   "cell_type": "code",
   "execution_count": 12,
   "id": "611ed97d",
   "metadata": {},
   "outputs": [
    {
     "data": {
      "text/plain": [
       "array([[ 1,  2,  3,  4,  5],\n",
       "       [ 6,  7,  8,  9, 10]])"
      ]
     },
     "execution_count": 12,
     "metadata": {},
     "output_type": "execute_result"
    }
   ],
   "source": [
    "# Reshape\n",
    "np.arange(1,11).reshape(2,5)"
   ]
  },
  {
   "cell_type": "code",
   "execution_count": 14,
   "id": "60bc8fca",
   "metadata": {},
   "outputs": [
    {
     "data": {
      "text/plain": [
       "array([[1., 1., 1., 1.],\n",
       "       [1., 1., 1., 1.],\n",
       "       [1., 1., 1., 1.]])"
      ]
     },
     "execution_count": 14,
     "metadata": {},
     "output_type": "execute_result"
    }
   ],
   "source": [
    "# np.ones\n",
    "np.ones((3,4))"
   ]
  },
  {
   "cell_type": "code",
   "execution_count": 15,
   "id": "0cfa5e41",
   "metadata": {},
   "outputs": [
    {
     "data": {
      "text/plain": [
       "array([[0., 0., 0., 0.],\n",
       "       [0., 0., 0., 0.],\n",
       "       [0., 0., 0., 0.]])"
      ]
     },
     "execution_count": 15,
     "metadata": {},
     "output_type": "execute_result"
    }
   ],
   "source": [
    "# np.zeros\n",
    "np.zeros((3,4))"
   ]
  },
  {
   "cell_type": "code",
   "execution_count": 16,
   "id": "7debc7dc",
   "metadata": {},
   "outputs": [
    {
     "data": {
      "text/plain": [
       "array([[0.05481721, 0.18130773, 0.80148766, 0.54983229],\n",
       "       [0.26759431, 0.60147736, 0.70915995, 0.87831541],\n",
       "       [0.4551867 , 0.83411542, 0.13799025, 0.13134703]])"
      ]
     },
     "execution_count": 16,
     "metadata": {},
     "output_type": "execute_result"
    }
   ],
   "source": [
    "# np.random\n",
    "np.random.random((3,4))"
   ]
  },
  {
   "cell_type": "code",
   "execution_count": 18,
   "id": "864ccc7c",
   "metadata": {},
   "outputs": [
    {
     "data": {
      "text/plain": [
       "array([-10.        ,  -7.77777778,  -5.55555556,  -3.33333333,\n",
       "        -1.11111111,   1.11111111,   3.33333333,   5.55555556,\n",
       "         7.77777778,  10.        ])"
      ]
     },
     "execution_count": 18,
     "metadata": {},
     "output_type": "execute_result"
    }
   ],
   "source": [
    "# np.linspace\n",
    "\"\"\"\n",
    "    Generate point in given range in equal distance\n",
    "\"\"\"\n",
    "np.linspace(-10,10,10)"
   ]
  },
  {
   "cell_type": "code",
   "execution_count": 19,
   "id": "a8d67c83",
   "metadata": {},
   "outputs": [
    {
     "data": {
      "text/plain": [
       "array([[1., 0., 0.],\n",
       "       [0., 1., 0.],\n",
       "       [0., 0., 1.]])"
      ]
     },
     "execution_count": 19,
     "metadata": {},
     "output_type": "execute_result"
    }
   ],
   "source": [
    "\"\"\"\n",
    "    Generate identity matrix\n",
    "\"\"\"\n",
    "np.identity(3)"
   ]
  },
  {
   "cell_type": "markdown",
   "id": "7bf45217",
   "metadata": {},
   "source": [
    "#### Attributes"
   ]
  },
  {
   "cell_type": "code",
   "execution_count": 31,
   "id": "17a67e68",
   "metadata": {},
   "outputs": [
    {
     "name": "stdout",
     "output_type": "stream",
     "text": [
      "[0 1 2 3 4 5 6 7 8 9]\n",
      "**************************************************\n",
      "[[ 0.  1.  2.  3.]\n",
      " [ 4.  5.  6.  7.]\n",
      " [ 8.  9. 10. 11.]]\n",
      "**************************************************\n",
      "[[[0 1]\n",
      "  [2 3]]\n",
      "\n",
      " [[4 5]\n",
      "  [6 7]]]\n"
     ]
    }
   ],
   "source": [
    "a1 = np.arange(10)\n",
    "a2 = np.arange(12,dtype=float).reshape(3,4)\n",
    "a3 = np.arange(8).reshape(2,2,2)\n",
    "\n",
    "print(a1)\n",
    "print(\"*\"*50)\n",
    "print(a2)\n",
    "print(\"*\"*50)\n",
    "print(a3)"
   ]
  },
  {
   "cell_type": "code",
   "execution_count": 23,
   "id": "560d8207",
   "metadata": {},
   "outputs": [
    {
     "data": {
      "text/plain": [
       "1"
      ]
     },
     "execution_count": 23,
     "metadata": {},
     "output_type": "execute_result"
    }
   ],
   "source": [
    "# ndim --> Dimention of given array\n",
    "a1.ndim"
   ]
  },
  {
   "cell_type": "code",
   "execution_count": 26,
   "id": "52b7f4de",
   "metadata": {},
   "outputs": [
    {
     "name": "stdout",
     "output_type": "stream",
     "text": [
      "(10,)\n",
      "(3, 4)\n",
      "(2, 2, 2)\n"
     ]
    }
   ],
   "source": [
    "# shape\n",
    "print(a1.shape)\n",
    "print(a2.shape)\n",
    "print(a3.shape)"
   ]
  },
  {
   "cell_type": "code",
   "execution_count": 32,
   "id": "e91aadfd",
   "metadata": {},
   "outputs": [
    {
     "name": "stdout",
     "output_type": "stream",
     "text": [
      "10\n",
      "12\n"
     ]
    }
   ],
   "source": [
    "# size -> number of items\n",
    "print(a1.size)\n",
    "print(a2.size)"
   ]
  },
  {
   "cell_type": "code",
   "execution_count": 35,
   "id": "36560cc9",
   "metadata": {},
   "outputs": [
    {
     "name": "stdout",
     "output_type": "stream",
     "text": [
      "8\n",
      "8\n"
     ]
    }
   ],
   "source": [
    "# itemsize -> consuption of memory by item\n",
    "# output --> bite\n",
    "print(a1.itemsize)\n",
    "print(a2.itemsize)"
   ]
  },
  {
   "cell_type": "code",
   "execution_count": 34,
   "id": "ea23d3c0",
   "metadata": {},
   "outputs": [
    {
     "name": "stdout",
     "output_type": "stream",
     "text": [
      "int64\n"
     ]
    }
   ],
   "source": [
    "# dtype\n",
    "print(a1.dtype)"
   ]
  },
  {
   "cell_type": "markdown",
   "id": "84bf9b25",
   "metadata": {},
   "source": [
    "#### Change datatype"
   ]
  },
  {
   "cell_type": "code",
   "execution_count": 39,
   "id": "8723d2b7",
   "metadata": {},
   "outputs": [
    {
     "name": "stdout",
     "output_type": "stream",
     "text": [
      "int64\n"
     ]
    },
    {
     "data": {
      "text/plain": [
       "array([0, 1, 2, 3, 4, 5, 6, 7, 8, 9], dtype=int32)"
      ]
     },
     "execution_count": 39,
     "metadata": {},
     "output_type": "execute_result"
    }
   ],
   "source": [
    "#astype\n",
    "print(a1.dtype)\n",
    "a1.astype(np.int32)"
   ]
  },
  {
   "cell_type": "markdown",
   "id": "8d2011e7",
   "metadata": {},
   "source": [
    "#### Array Operations"
   ]
  },
  {
   "cell_type": "code",
   "execution_count": 40,
   "id": "504dde45",
   "metadata": {},
   "outputs": [],
   "source": [
    "a1 = np.arange(12).reshape(3,4)\n",
    "a2 = np.arange(12,24).reshape(3,4)"
   ]
  },
  {
   "cell_type": "code",
   "execution_count": 46,
   "id": "27d1db3a",
   "metadata": {},
   "outputs": [
    {
     "name": "stdout",
     "output_type": "stream",
     "text": [
      "[[ 0  1  2  3]\n",
      " [ 4  5  6  7]\n",
      " [ 8  9 10 11]]\n"
     ]
    },
    {
     "data": {
      "text/plain": [
       "array([[ 0,  2,  4,  6],\n",
       "       [ 8, 10, 12, 14],\n",
       "       [16, 18, 20, 22]])"
      ]
     },
     "execution_count": 46,
     "metadata": {},
     "output_type": "execute_result"
    }
   ],
   "source": [
    "# Scalar operations\n",
    "\n",
    "\"\"\"\n",
    "    arithmetic Every arithmetic operators will work same as \n",
    "    multiplication\n",
    "\"\"\"\n",
    "print(a1)\n",
    "a1*2"
   ]
  },
  {
   "cell_type": "code",
   "execution_count": 47,
   "id": "556f5052",
   "metadata": {},
   "outputs": [
    {
     "name": "stdout",
     "output_type": "stream",
     "text": [
      "[[12 13 14 15]\n",
      " [16 17 18 19]\n",
      " [20 21 22 23]]\n"
     ]
    },
    {
     "data": {
      "text/plain": [
       "array([[False, False, False, False],\n",
       "       [False, False, False, False],\n",
       "       [False,  True,  True,  True]])"
      ]
     },
     "execution_count": 47,
     "metadata": {},
     "output_type": "execute_result"
    }
   ],
   "source": [
    "# Relation\n",
    "\n",
    "\"\"\"\n",
    "    Every relational operators will work same as \n",
    "    greater than comparision\n",
    "\"\"\"\n",
    "print(a2)\n",
    "a2>20"
   ]
  },
  {
   "cell_type": "code",
   "execution_count": 49,
   "id": "1eca9774",
   "metadata": {},
   "outputs": [
    {
     "name": "stdout",
     "output_type": "stream",
     "text": [
      "[[ 0  1  2  3]\n",
      " [ 4  5  6  7]\n",
      " [ 8  9 10 11]]\n",
      "**************************************************\n",
      "[[12 13 14 15]\n",
      " [16 17 18 19]\n",
      " [20 21 22 23]]\n",
      "**************************************************\n"
     ]
    },
    {
     "data": {
      "text/plain": [
       "array([[12, 14, 16, 18],\n",
       "       [20, 22, 24, 26],\n",
       "       [28, 30, 32, 34]])"
      ]
     },
     "execution_count": 49,
     "metadata": {},
     "output_type": "execute_result"
    }
   ],
   "source": [
    "# Vector operations\n",
    "# arithmetic\n",
    "\n",
    "print(a1)\n",
    "print(\"*\"*50)\n",
    "print(a2)\n",
    "print(\"*\"*50)\n",
    "\n",
    "a1+a2"
   ]
  },
  {
   "cell_type": "markdown",
   "id": "501e7682",
   "metadata": {},
   "source": [
    "#### Agregation Functions"
   ]
  },
  {
   "cell_type": "code",
   "execution_count": 51,
   "id": "78ebdd63",
   "metadata": {},
   "outputs": [
    {
     "name": "stdout",
     "output_type": "stream",
     "text": [
      "[[88. 17. 79.]\n",
      " [94. 23. 92.]\n",
      " [54.  3. 15.]]\n"
     ]
    }
   ],
   "source": [
    "a1 = np.random.random((3,3))\n",
    "a1 = np.round(a1*100)\n",
    "print(a1)"
   ]
  },
  {
   "cell_type": "code",
   "execution_count": 52,
   "id": "d09bdd96",
   "metadata": {},
   "outputs": [
    {
     "name": "stdout",
     "output_type": "stream",
     "text": [
      "94.0\n",
      "3.0\n",
      "465.0\n",
      "57122666916480.0\n"
     ]
    }
   ],
   "source": [
    "# max/min/sum/prod\n",
    "\n",
    "print(np.max(a1))\n",
    "print(np.min(a1))\n",
    "print(np.sum(a1))\n",
    "print(np.prod(a1))"
   ]
  },
  {
   "cell_type": "code",
   "execution_count": 56,
   "id": "f0a7a71a",
   "metadata": {},
   "outputs": [
    {
     "name": "stdout",
     "output_type": "stream",
     "text": [
      "[[88. 17. 79.]\n",
      " [94. 23. 92.]\n",
      " [54.  3. 15.]]\n"
     ]
    },
    {
     "data": {
      "text/plain": [
       "array([88., 94., 54.])"
      ]
     },
     "execution_count": 56,
     "metadata": {},
     "output_type": "execute_result"
    }
   ],
   "source": [
    "\"\"\"\n",
    "    What if you want max number from every row\n",
    "    there is one parameter axis\n",
    "    axis = 1 --> row\n",
    "    axis = 0 --> column\n",
    "\"\"\"\n",
    "\n",
    "print(a1)\n",
    "np.max(a1,axis=1)"
   ]
  },
  {
   "cell_type": "code",
   "execution_count": 58,
   "id": "5198f2ce",
   "metadata": {},
   "outputs": [
    {
     "data": {
      "text/plain": [
       "1247.5555555555557"
      ]
     },
     "execution_count": 58,
     "metadata": {},
     "output_type": "execute_result"
    }
   ],
   "source": [
    "# mean/median/std/var\n",
    "\n",
    "\"\"\"\n",
    "    We can use axis parameter here also\n",
    "\"\"\"\n",
    "np.mean(a1)\n",
    "np.median(a1)\n",
    "np.std(a1)\n",
    "np.var(a1)"
   ]
  },
  {
   "cell_type": "markdown",
   "id": "8d1aa584",
   "metadata": {},
   "source": [
    "#### Dot product"
   ]
  },
  {
   "cell_type": "code",
   "execution_count": 65,
   "id": "b629784a",
   "metadata": {},
   "outputs": [
    {
     "name": "stdout",
     "output_type": "stream",
     "text": [
      "[[114 120 126]\n",
      " [378 400 422]\n",
      " [642 680 718]]\n",
      "**************************************************\n",
      "[[114 120 126]\n",
      " [378 400 422]\n",
      " [642 680 718]]\n"
     ]
    }
   ],
   "source": [
    "\"\"\"\n",
    "    To get dot product of two array \n",
    "    (3,4) (4,3) ==> Possible\n",
    "    (3,4) (3,4) ==> not possible\n",
    "\"\"\"\n",
    "a2 = np.arange(12).reshape(3,4)\n",
    "a3 = np.arange(12,24).reshape(4,3)\n",
    "\n",
    "print(a2.dot(a3)) # one way\n",
    "print(\"*\"*50)\n",
    "print(np.dot(a2,a3)) # second way"
   ]
  },
  {
   "cell_type": "markdown",
   "id": "7bf3aa67",
   "metadata": {},
   "source": [
    "#### Round / Floor / Ceil"
   ]
  },
  {
   "cell_type": "code",
   "execution_count": 69,
   "id": "a42fc975",
   "metadata": {},
   "outputs": [
    {
     "name": "stdout",
     "output_type": "stream",
     "text": [
      "[[22.41621018 77.92962249 68.40545289]\n",
      " [31.25082158 60.20585326  0.39878387]]\n",
      "**************************************************\n",
      "[[22. 78. 68.]\n",
      " [31. 60.  0.]]\n",
      "**************************************************\n",
      "[[22. 77. 68.]\n",
      " [31. 60.  0.]]\n",
      "**************************************************\n",
      "[[23. 78. 69.]\n",
      " [32. 61.  1.]]\n",
      "**************************************************\n"
     ]
    }
   ],
   "source": [
    "a4 = np.random.random((2,3))*100\n",
    "print(a4)\n",
    "print(\"*\"*50)\n",
    "print(np.round(a4))\n",
    "print(\"*\"*50)\n",
    "print(np.floor(a4))\n",
    "print(\"*\"*50)\n",
    "print(np.ceil(a4))\n",
    "print(\"*\"*50)"
   ]
  },
  {
   "cell_type": "markdown",
   "id": "cdd0cf85",
   "metadata": {},
   "source": [
    "#### Indexing and Slicing"
   ]
  },
  {
   "cell_type": "code",
   "execution_count": 70,
   "id": "7eb0474f",
   "metadata": {},
   "outputs": [],
   "source": [
    "a1 = np.arange(10)\n",
    "a2 = np.arange(12).reshape(3,4)\n",
    "a3 = np.arange(8).reshape(2,2,2)"
   ]
  },
  {
   "cell_type": "code",
   "execution_count": 72,
   "id": "5fc83828",
   "metadata": {},
   "outputs": [
    {
     "data": {
      "text/plain": [
       "9"
      ]
     },
     "execution_count": 72,
     "metadata": {},
     "output_type": "execute_result"
    }
   ],
   "source": [
    "# last item of a1\n",
    "a1[-1]"
   ]
  },
  {
   "cell_type": "code",
   "execution_count": 73,
   "id": "4da18f52",
   "metadata": {},
   "outputs": [
    {
     "data": {
      "text/plain": [
       "array([[ 0,  1,  2,  3],\n",
       "       [ 4,  5,  6,  7],\n",
       "       [ 8,  9, 10, 11]])"
      ]
     },
     "execution_count": 73,
     "metadata": {},
     "output_type": "execute_result"
    }
   ],
   "source": [
    "a2"
   ]
  },
  {
   "cell_type": "code",
   "execution_count": 74,
   "id": "e73c83f7",
   "metadata": {},
   "outputs": [
    {
     "data": {
      "text/plain": [
       "6"
      ]
     },
     "execution_count": 74,
     "metadata": {},
     "output_type": "execute_result"
    }
   ],
   "source": [
    "# get 6\n",
    "\"\"\"\n",
    "    2D array ==> array[row,column]\n",
    "\"\"\"\n",
    "a2[1,2]"
   ]
  },
  {
   "cell_type": "code",
   "execution_count": 75,
   "id": "25e29b51",
   "metadata": {},
   "outputs": [
    {
     "data": {
      "text/plain": [
       "array([[[0, 1],\n",
       "        [2, 3]],\n",
       "\n",
       "       [[4, 5],\n",
       "        [6, 7]]])"
      ]
     },
     "execution_count": 75,
     "metadata": {},
     "output_type": "execute_result"
    }
   ],
   "source": [
    "a3"
   ]
  },
  {
   "cell_type": "code",
   "execution_count": 76,
   "id": "958852bf",
   "metadata": {},
   "outputs": [
    {
     "data": {
      "text/plain": [
       "5"
      ]
     },
     "execution_count": 76,
     "metadata": {},
     "output_type": "execute_result"
    }
   ],
   "source": [
    "# get 5\n",
    "\"\"\"\n",
    "    3D array ==> array[which one array , row, column]\n",
    "\"\"\"\n",
    "a3[1,0,1]"
   ]
  },
  {
   "cell_type": "code",
   "execution_count": 78,
   "id": "9e7cd8e0",
   "metadata": {},
   "outputs": [
    {
     "name": "stdout",
     "output_type": "stream",
     "text": [
      "[0 1 2 3 4 5 6 7 8 9]\n"
     ]
    },
    {
     "data": {
      "text/plain": [
       "array([3, 4, 5])"
      ]
     },
     "execution_count": 78,
     "metadata": {},
     "output_type": "execute_result"
    }
   ],
   "source": [
    "# get 3,4,5\n",
    "print(a1)\n",
    "a1[3:6]"
   ]
  },
  {
   "cell_type": "code",
   "execution_count": 79,
   "id": "b803e6c5",
   "metadata": {},
   "outputs": [
    {
     "name": "stdout",
     "output_type": "stream",
     "text": [
      "[[ 0  1  2  3]\n",
      " [ 4  5  6  7]\n",
      " [ 8  9 10 11]]\n"
     ]
    },
    {
     "data": {
      "text/plain": [
       "array([0, 1, 2, 3])"
      ]
     },
     "execution_count": 79,
     "metadata": {},
     "output_type": "execute_result"
    }
   ],
   "source": [
    "# get 1st row in a2\n",
    "print(a2)\n",
    "a2[0]"
   ]
  },
  {
   "cell_type": "code",
   "execution_count": 81,
   "id": "0fde5c3f",
   "metadata": {},
   "outputs": [
    {
     "data": {
      "text/plain": [
       "array([ 3,  7, 11])"
      ]
     },
     "execution_count": 81,
     "metadata": {},
     "output_type": "execute_result"
    }
   ],
   "source": [
    "# get all row and 4 column\n",
    "a2[:,3]"
   ]
  },
  {
   "cell_type": "code",
   "execution_count": 84,
   "id": "2399648a",
   "metadata": {},
   "outputs": [
    {
     "data": {
      "text/plain": [
       "array([[ 6,  7],\n",
       "       [10, 11]])"
      ]
     },
     "execution_count": 84,
     "metadata": {},
     "output_type": "execute_result"
    }
   ],
   "source": [
    "# get 6,7, 10, 11\n",
    "a2[1:,2:4]"
   ]
  },
  {
   "cell_type": "code",
   "execution_count": 87,
   "id": "df75651b",
   "metadata": {},
   "outputs": [
    {
     "data": {
      "text/plain": [
       "array([[ 1,  3],\n",
       "       [ 9, 11]])"
      ]
     },
     "execution_count": 87,
     "metadata": {},
     "output_type": "execute_result"
    }
   ],
   "source": [
    "# get 1,3,9,11\n",
    "a2[::2,1::2]"
   ]
  },
  {
   "cell_type": "code",
   "execution_count": 90,
   "id": "e5b37d7f",
   "metadata": {},
   "outputs": [
    {
     "data": {
      "text/plain": [
       "array([[4, 7]])"
      ]
     },
     "execution_count": 90,
     "metadata": {},
     "output_type": "execute_result"
    }
   ],
   "source": [
    "# get 4,7\n",
    "a2[1:2,::3]"
   ]
  },
  {
   "cell_type": "code",
   "execution_count": 93,
   "id": "6b2f3031",
   "metadata": {},
   "outputs": [
    {
     "data": {
      "text/plain": [
       "array([[1, 2, 3],\n",
       "       [5, 6, 7]])"
      ]
     },
     "execution_count": 93,
     "metadata": {},
     "output_type": "execute_result"
    }
   ],
   "source": [
    "# 1,2,3,5,6,7\n",
    "a2[:2,1:]"
   ]
  },
  {
   "cell_type": "code",
   "execution_count": 96,
   "id": "4aed17f6",
   "metadata": {},
   "outputs": [
    {
     "data": {
      "text/plain": [
       "array([[[ 0,  1,  2],\n",
       "        [ 3,  4,  5],\n",
       "        [ 6,  7,  8]],\n",
       "\n",
       "       [[ 9, 10, 11],\n",
       "        [12, 13, 14],\n",
       "        [15, 16, 17]],\n",
       "\n",
       "       [[18, 19, 20],\n",
       "        [21, 22, 23],\n",
       "        [24, 25, 26]]])"
      ]
     },
     "execution_count": 96,
     "metadata": {},
     "output_type": "execute_result"
    }
   ],
   "source": [
    "# 3D array\n",
    "a3 = np.arange(27).reshape(3,3,3)\n",
    "a3"
   ]
  },
  {
   "cell_type": "code",
   "execution_count": 102,
   "id": "901cca1f",
   "metadata": {},
   "outputs": [
    {
     "data": {
      "text/plain": [
       "array([3, 4, 5])"
      ]
     },
     "execution_count": 102,
     "metadata": {},
     "output_type": "execute_result"
    }
   ],
   "source": [
    "a3[0,1]"
   ]
  },
  {
   "cell_type": "code",
   "execution_count": 104,
   "id": "f21eecd2",
   "metadata": {},
   "outputs": [
    {
     "data": {
      "text/plain": [
       "array([10, 13, 16])"
      ]
     },
     "execution_count": 104,
     "metadata": {},
     "output_type": "execute_result"
    }
   ],
   "source": [
    "# 2nd array 2 columns\n",
    "a3[1,:,1]"
   ]
  },
  {
   "cell_type": "code",
   "execution_count": 109,
   "id": "7af60bb6",
   "metadata": {},
   "outputs": [
    {
     "data": {
      "text/plain": [
       "array([[22, 23],\n",
       "       [25, 26]])"
      ]
     },
     "execution_count": 109,
     "metadata": {},
     "output_type": "execute_result"
    }
   ],
   "source": [
    "# get 22,23,25,26\n",
    "a3[2,1:3,1:]"
   ]
  },
  {
   "cell_type": "code",
   "execution_count": 114,
   "id": "13f00612",
   "metadata": {},
   "outputs": [
    {
     "data": {
      "text/plain": [
       "array([[ 0,  2],\n",
       "       [18, 20]])"
      ]
     },
     "execution_count": 114,
     "metadata": {},
     "output_type": "execute_result"
    }
   ],
   "source": [
    "# get 0,2,18,20\n",
    "a3[::2,0,::2]"
   ]
  },
  {
   "cell_type": "markdown",
   "id": "7281cece",
   "metadata": {},
   "source": [
    "#### Reshaping"
   ]
  },
  {
   "cell_type": "code",
   "execution_count": 117,
   "id": "ff6262fa",
   "metadata": {},
   "outputs": [
    {
     "name": "stdout",
     "output_type": "stream",
     "text": [
      "[[ 0  1  2  3]\n",
      " [ 4  5  6  7]\n",
      " [ 8  9 10 11]]\n"
     ]
    },
    {
     "data": {
      "text/plain": [
       "array([[ 0,  4,  8],\n",
       "       [ 1,  5,  9],\n",
       "       [ 2,  6, 10],\n",
       "       [ 3,  7, 11]])"
      ]
     },
     "execution_count": 117,
     "metadata": {},
     "output_type": "execute_result"
    }
   ],
   "source": [
    "# Transpose\n",
    "print(a2)\n",
    "a2.T"
   ]
  },
  {
   "cell_type": "code",
   "execution_count": 119,
   "id": "054b78bb",
   "metadata": {},
   "outputs": [
    {
     "data": {
      "text/plain": [
       "array([ 0,  1,  2,  3,  4,  5,  6,  7,  8,  9, 10, 11])"
      ]
     },
     "execution_count": 119,
     "metadata": {},
     "output_type": "execute_result"
    }
   ],
   "source": [
    "# ravel ---> flat array \n",
    "a2.ravel()"
   ]
  },
  {
   "cell_type": "code",
   "execution_count": 120,
   "id": "869b28f0",
   "metadata": {},
   "outputs": [
    {
     "data": {
      "text/plain": [
       "array([ 0,  1,  2,  3,  4,  5,  6,  7,  8,  9, 10, 11, 12, 13, 14, 15, 16,\n",
       "       17, 18, 19, 20, 21, 22, 23, 24, 25, 26])"
      ]
     },
     "execution_count": 120,
     "metadata": {},
     "output_type": "execute_result"
    }
   ],
   "source": [
    "a3.ravel()"
   ]
  },
  {
   "cell_type": "markdown",
   "id": "f2861327",
   "metadata": {},
   "source": [
    "#### Splitting"
   ]
  },
  {
   "cell_type": "code",
   "execution_count": 122,
   "id": "716136d9",
   "metadata": {},
   "outputs": [
    {
     "name": "stdout",
     "output_type": "stream",
     "text": [
      "[[ 0  1  2  3]\n",
      " [ 4  5  6  7]\n",
      " [ 8  9 10 11]]\n",
      "[[12 13 14 15]\n",
      " [16 17 18 19]\n",
      " [20 21 22 23]]\n"
     ]
    }
   ],
   "source": [
    "# Horizontal splitting\n",
    "a4 = np.arange(12).reshape(3,4)\n",
    "a5 = np.arange(12,24).reshape(3,4)\n",
    "\n",
    "print(a4)\n",
    "print(a5)"
   ]
  },
  {
   "cell_type": "code",
   "execution_count": 126,
   "id": "7803e7e9",
   "metadata": {},
   "outputs": [],
   "source": [
    "a6 = np.hstack((a4,a5))"
   ]
  },
  {
   "cell_type": "code",
   "execution_count": 127,
   "id": "be14d522",
   "metadata": {},
   "outputs": [],
   "source": [
    "a7 = np.vstack((a4,a5))"
   ]
  },
  {
   "cell_type": "code",
   "execution_count": 128,
   "id": "ebd3673d",
   "metadata": {},
   "outputs": [
    {
     "data": {
      "text/plain": [
       "array([[ 0,  1,  2,  3, 12, 13, 14, 15],\n",
       "       [ 4,  5,  6,  7, 16, 17, 18, 19],\n",
       "       [ 8,  9, 10, 11, 20, 21, 22, 23]])"
      ]
     },
     "execution_count": 128,
     "metadata": {},
     "output_type": "execute_result"
    }
   ],
   "source": [
    "a6"
   ]
  },
  {
   "cell_type": "code",
   "execution_count": 129,
   "id": "949a6504",
   "metadata": {},
   "outputs": [
    {
     "data": {
      "text/plain": [
       "array([[ 0,  1,  2,  3],\n",
       "       [ 4,  5,  6,  7],\n",
       "       [ 8,  9, 10, 11],\n",
       "       [12, 13, 14, 15],\n",
       "       [16, 17, 18, 19],\n",
       "       [20, 21, 22, 23]])"
      ]
     },
     "execution_count": 129,
     "metadata": {},
     "output_type": "execute_result"
    }
   ],
   "source": [
    "a7"
   ]
  },
  {
   "cell_type": "code",
   "execution_count": 134,
   "id": "c9ab336a",
   "metadata": {},
   "outputs": [
    {
     "data": {
      "text/plain": [
       "[array([[ 0,  1,  2,  3],\n",
       "        [ 4,  5,  6,  7],\n",
       "        [ 8,  9, 10, 11]]),\n",
       " array([[12, 13, 14, 15],\n",
       "        [16, 17, 18, 19],\n",
       "        [20, 21, 22, 23]])]"
      ]
     },
     "execution_count": 134,
     "metadata": {},
     "output_type": "execute_result"
    }
   ],
   "source": [
    "np.hsplit(a6,2)"
   ]
  },
  {
   "cell_type": "code",
   "execution_count": 135,
   "id": "b3e9bc88",
   "metadata": {},
   "outputs": [
    {
     "data": {
      "text/plain": [
       "[array([[ 0,  1,  2,  3],\n",
       "        [ 4,  5,  6,  7],\n",
       "        [ 8,  9, 10, 11]]),\n",
       " array([[12, 13, 14, 15],\n",
       "        [16, 17, 18, 19],\n",
       "        [20, 21, 22, 23]])]"
      ]
     },
     "execution_count": 135,
     "metadata": {},
     "output_type": "execute_result"
    }
   ],
   "source": [
    "np.vsplit(a7,2)"
   ]
  },
  {
   "cell_type": "code",
   "execution_count": null,
   "id": "c620761b",
   "metadata": {},
   "outputs": [],
   "source": []
  }
 ],
 "metadata": {
  "kernelspec": {
   "display_name": "Python 3 (ipykernel)",
   "language": "python",
   "name": "python3"
  },
  "language_info": {
   "codemirror_mode": {
    "name": "ipython",
    "version": 3
   },
   "file_extension": ".py",
   "mimetype": "text/x-python",
   "name": "python",
   "nbconvert_exporter": "python",
   "pygments_lexer": "ipython3",
   "version": "3.8.10"
  }
 },
 "nbformat": 4,
 "nbformat_minor": 5
}
